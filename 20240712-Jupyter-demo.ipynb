{
 "cells": [
  {
   "cell_type": "markdown",
   "id": "fc9bf0f5-3ff6-49a8-b214-df5e5142892b",
   "metadata": {},
   "source": [
    "# Introduction to Jupyter"
   ]
  },
  {
   "cell_type": "code",
   "execution_count": 1,
   "id": "558eb191-00b0-4500-af9d-994b58525285",
   "metadata": {
    "tags": []
   },
   "outputs": [
    {
     "name": "stdout",
     "output_type": "stream",
     "text": [
      "Hello World!\n"
     ]
    }
   ],
   "source": [
    "print(\"Hello World!\")"
   ]
  },
  {
   "cell_type": "code",
   "execution_count": 2,
   "id": "b145c9e4-6616-4cb3-b026-04fe9823c06a",
   "metadata": {
    "tags": []
   },
   "outputs": [
    {
     "name": "stdout",
     "output_type": "stream",
     "text": [
      "0\n",
      "1\n",
      "2\n",
      "3\n",
      "4\n",
      "5\n",
      "6\n",
      "7\n",
      "8\n",
      "9\n"
     ]
    }
   ],
   "source": [
    "for i in range(10):\n",
    "    print(i)"
   ]
  },
  {
   "cell_type": "raw",
   "id": "645e6886-2ee6-4fe9-8673-570060e714ca",
   "metadata": {
    "tags": []
   },
   "source": [
    "this is an example plain text\n",
    "# this is heading 1, or a title\n",
    "## this is heading 2\n",
    "### this is level 3 heading\n",
    "###### all the way to heading level 6\n",
    "this is how you write _italic_ text\n",
    "and **bold** text\n",
    "and here is how you write a link (hypertext): [binhe lab](www.binhe-lab.org)\n",
    "and you can even embed a picture like ![this](https://biopython.org/assets/images/biopython_logo_white.png)\n",
    "* list item 1\n",
    "* list item 2\n",
    "* list item 3"
   ]
  },
  {
   "cell_type": "code",
   "execution_count": 1,
   "id": "3c74108b-70ed-42fa-825d-5b9f689b964f",
   "metadata": {
    "tags": []
   },
   "outputs": [
    {
     "name": "stdout",
     "output_type": "stream",
     "text": [
      "0\n",
      "1\n",
      "2\n",
      "3\n",
      "4\n",
      "5\n",
      "6\n",
      "7\n",
      "8\n",
      "9\n"
     ]
    }
   ],
   "source": [
    "for i in range(10):\n",
    "    print(i)"
   ]
  },
  {
   "cell_type": "code",
   "execution_count": null,
   "id": "b1e87cf1-4189-4a83-bc97-5eb9c7b26617",
   "metadata": {},
   "outputs": [],
   "source": []
  }
 ],
 "metadata": {
  "kernelspec": {
   "display_name": "Python 3 (ipykernel)",
   "language": "python",
   "name": "python3"
  },
  "language_info": {
   "codemirror_mode": {
    "name": "ipython",
    "version": 3
   },
   "file_extension": ".py",
   "mimetype": "text/x-python",
   "name": "python",
   "nbconvert_exporter": "python",
   "pygments_lexer": "ipython3",
   "version": "3.11.4"
  }
 },
 "nbformat": 4,
 "nbformat_minor": 5
}
